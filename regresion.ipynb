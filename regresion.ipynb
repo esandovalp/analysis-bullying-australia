{
 "cells": [
  {
   "cell_type": "code",
   "execution_count": 1,
   "id": "c3039c53",
   "metadata": {},
   "outputs": [],
   "source": [
    "import numpy as np\n",
    "import pandas as pd\n",
    "import matplotlib.pyplot as plt\n",
    "import seaborn as sns\n",
    "import os"
   ]
  },
  {
   "cell_type": "markdown",
   "id": "0103aeb1",
   "metadata": {},
   "source": [
    "# NSW Department of Education\n",
    "https://data.nsw.gov.au/data/dataset/nsw-education-suspensions-and-expulsions-in-nsw-government-schools#:~:text=This%20dataset%20provides%20information%20on,expulsions%20in%20NSW%20government%20schools "
   ]
  },
  {
   "cell_type": "code",
   "execution_count": 9,
   "id": "38a5a91e",
   "metadata": {},
   "outputs": [],
   "source": [
    "# cargar data \n",
    "df_t1 = pd.read_csv('tables_pages_3-14_16/table_01_page3.csv')\n",
    "df_t2 = pd.read_csv('tables_pages_3-14_16/table_02_page4.csv')\n",
    "df_t3 = pd.read_csv('tables_pages_3-14_16/table_03_page5.csv', on_bad_lines='skip')\n",
    "df_t4 = pd.read_csv('tables_pages_3-14_16/table_04_page6.csv', on_bad_lines='skip')\n",
    "df_t5 = pd.read_csv('tables_pages_3-14_16/table_05_page7.csv')\n",
    "df_t6 = pd.read_csv('tables_pages_3-14_16/table_06_page8.csv')\n",
    "df_t7 = pd.read_csv('tables_pages_3-14_16/table_07_page9.csv')\n",
    "df_t8 = pd.read_csv('tables_pages_3-14_16/table_08_page10.csv')\n",
    "df_t9 = pd.read_csv('tables_pages_3-14_16/table_09_page11.csv', on_bad_lines='skip')\n",
    "df_t10 = pd.read_csv('tables_pages_3-14_16/table_10_page12.csv', on_bad_lines='skip')\n",
    "df_t11 = pd.read_csv('tables_pages_3-14_16/table_11_page12.csv')\n",
    "df_t12 = pd.read_csv('tables_pages_3-14_16/table_12_page13.csv')\n",
    "df_t13 = pd.read_csv('tables_pages_3-14_16/table_13_page14.csv')\n",
    "df_t14 = pd.read_csv('tables_pages_3-14_16/table_14_page14.csv')\n",
    "df_t15 = pd.read_csv('tables_pages_3-14_16/table_15_page16.csv')\n",
    "df_t16 = pd.read_csv('tables_pages_3-14_16/table_16_page16.csv')"
   ]
  },
  {
   "cell_type": "code",
   "execution_count": 11,
   "id": "8ca4ea71",
   "metadata": {},
   "outputs": [
    {
     "data": {
      "application/vnd.microsoft.datawrangler.viewer.v0+json": {
       "columns": [
        {
         "name": "index",
         "rawType": "int64",
         "type": "integer"
        },
        {
         "name": "Year",
         "rawType": "object",
         "type": "string"
        },
        {
         "name": "Male",
         "rawType": "object",
         "type": "string"
        },
        {
         "name": "Female",
         "rawType": "object",
         "type": "string"
        },
        {
         "name": "All students",
         "rawType": "object",
         "type": "string"
        }
       ],
       "conversionMethod": "pd.DataFrame",
       "ref": "79daeab5-0c24-4767-91c5-4e18c7d47419",
       "rows": [
        [
         "0",
         "K–2",
         "103,234",
         "96,452",
         "199,686"
        ],
        [
         "1",
         "3–6",
         "143,276",
         "131,493",
         "274,769"
        ],
        [
         "2",
         "Primary total",
         "246,510",
         "227,945",
         "474,455"
        ],
        [
         "3",
         "7–10",
         "119,561",
         "108,212",
         "227,773"
        ],
        [
         "4",
         "11–12",
         "41,479",
         "42,727",
         "84,206"
        ]
       ],
       "shape": {
        "columns": 4,
        "rows": 5
       }
      },
      "text/html": [
       "<div>\n",
       "<style scoped>\n",
       "    .dataframe tbody tr th:only-of-type {\n",
       "        vertical-align: middle;\n",
       "    }\n",
       "\n",
       "    .dataframe tbody tr th {\n",
       "        vertical-align: top;\n",
       "    }\n",
       "\n",
       "    .dataframe thead th {\n",
       "        text-align: right;\n",
       "    }\n",
       "</style>\n",
       "<table border=\"1\" class=\"dataframe\">\n",
       "  <thead>\n",
       "    <tr style=\"text-align: right;\">\n",
       "      <th></th>\n",
       "      <th>Year</th>\n",
       "      <th>Male</th>\n",
       "      <th>Female</th>\n",
       "      <th>All students</th>\n",
       "    </tr>\n",
       "  </thead>\n",
       "  <tbody>\n",
       "    <tr>\n",
       "      <th>0</th>\n",
       "      <td>K–2</td>\n",
       "      <td>103,234</td>\n",
       "      <td>96,452</td>\n",
       "      <td>199,686</td>\n",
       "    </tr>\n",
       "    <tr>\n",
       "      <th>1</th>\n",
       "      <td>3–6</td>\n",
       "      <td>143,276</td>\n",
       "      <td>131,493</td>\n",
       "      <td>274,769</td>\n",
       "    </tr>\n",
       "    <tr>\n",
       "      <th>2</th>\n",
       "      <td>Primary total</td>\n",
       "      <td>246,510</td>\n",
       "      <td>227,945</td>\n",
       "      <td>474,455</td>\n",
       "    </tr>\n",
       "    <tr>\n",
       "      <th>3</th>\n",
       "      <td>7–10</td>\n",
       "      <td>119,561</td>\n",
       "      <td>108,212</td>\n",
       "      <td>227,773</td>\n",
       "    </tr>\n",
       "    <tr>\n",
       "      <th>4</th>\n",
       "      <td>11–12</td>\n",
       "      <td>41,479</td>\n",
       "      <td>42,727</td>\n",
       "      <td>84,206</td>\n",
       "    </tr>\n",
       "  </tbody>\n",
       "</table>\n",
       "</div>"
      ],
      "text/plain": [
       "            Year     Male   Female All students\n",
       "0            K–2  103,234   96,452      199,686\n",
       "1            3–6  143,276  131,493      274,769\n",
       "2  Primary total  246,510  227,945      474,455\n",
       "3           7–10  119,561  108,212      227,773\n",
       "4          11–12   41,479   42,727       84,206"
      ]
     },
     "execution_count": 11,
     "metadata": {},
     "output_type": "execute_result"
    }
   ],
   "source": [
    "df_t1.head()"
   ]
  },
  {
   "cell_type": "code",
   "execution_count": 12,
   "id": "6b0ac3cb",
   "metadata": {},
   "outputs": [
    {
     "data": {
      "application/vnd.microsoft.datawrangler.viewer.v0+json": {
       "columns": [
        {
         "name": "index",
         "rawType": "int64",
         "type": "integer"
        },
        {
         "name": "All students",
         "rawType": "object",
         "type": "string"
        },
        {
         "name": "Semester 1 \n(Term 1 and 2)",
         "rawType": "object",
         "type": "unknown"
        },
        {
         "name": "Semester 2 \n(Term 3 and 4)",
         "rawType": "object",
         "type": "unknown"
        },
        {
         "name": "Full year",
         "rawType": "object",
         "type": "unknown"
        }
       ],
       "conversionMethod": "pd.DataFrame",
       "ref": "b9f2d89c-564b-438a-9c6d-86d8abed8b58",
       "rows": [
        [
         "0",
         "Number of suspensions",
         null,
         null,
         null
        ],
        [
         "1",
         "Actual harm",
         "8,991",
         "7,540",
         "16,531"
        ],
        [
         "2",
         "Unacceptable risk to health \nand safety / wellbeing",
         "20,245",
         "22,879",
         "43,124"
        ],
        [
         "3",
         "Unknown / Not available",
         "80",
         "79",
         "159"
        ],
        [
         "4",
         "Total suspensions",
         "29,316",
         "30,498",
         "59,814"
        ]
       ],
       "shape": {
        "columns": 4,
        "rows": 5
       }
      },
      "text/html": [
       "<div>\n",
       "<style scoped>\n",
       "    .dataframe tbody tr th:only-of-type {\n",
       "        vertical-align: middle;\n",
       "    }\n",
       "\n",
       "    .dataframe tbody tr th {\n",
       "        vertical-align: top;\n",
       "    }\n",
       "\n",
       "    .dataframe thead th {\n",
       "        text-align: right;\n",
       "    }\n",
       "</style>\n",
       "<table border=\"1\" class=\"dataframe\">\n",
       "  <thead>\n",
       "    <tr style=\"text-align: right;\">\n",
       "      <th></th>\n",
       "      <th>All students</th>\n",
       "      <th>Semester 1 \\n(Term 1 and 2)</th>\n",
       "      <th>Semester 2 \\n(Term 3 and 4)</th>\n",
       "      <th>Full year</th>\n",
       "    </tr>\n",
       "  </thead>\n",
       "  <tbody>\n",
       "    <tr>\n",
       "      <th>0</th>\n",
       "      <td>Number of suspensions</td>\n",
       "      <td>NaN</td>\n",
       "      <td>NaN</td>\n",
       "      <td>NaN</td>\n",
       "    </tr>\n",
       "    <tr>\n",
       "      <th>1</th>\n",
       "      <td>Actual harm</td>\n",
       "      <td>8,991</td>\n",
       "      <td>7,540</td>\n",
       "      <td>16,531</td>\n",
       "    </tr>\n",
       "    <tr>\n",
       "      <th>2</th>\n",
       "      <td>Unacceptable risk to health \\nand safety / wel...</td>\n",
       "      <td>20,245</td>\n",
       "      <td>22,879</td>\n",
       "      <td>43,124</td>\n",
       "    </tr>\n",
       "    <tr>\n",
       "      <th>3</th>\n",
       "      <td>Unknown / Not available</td>\n",
       "      <td>80</td>\n",
       "      <td>79</td>\n",
       "      <td>159</td>\n",
       "    </tr>\n",
       "    <tr>\n",
       "      <th>4</th>\n",
       "      <td>Total suspensions</td>\n",
       "      <td>29,316</td>\n",
       "      <td>30,498</td>\n",
       "      <td>59,814</td>\n",
       "    </tr>\n",
       "  </tbody>\n",
       "</table>\n",
       "</div>"
      ],
      "text/plain": [
       "                                        All students  \\\n",
       "0                              Number of suspensions   \n",
       "1                                        Actual harm   \n",
       "2  Unacceptable risk to health \\nand safety / wel...   \n",
       "3                            Unknown / Not available   \n",
       "4                                  Total suspensions   \n",
       "\n",
       "  Semester 1 \\n(Term 1 and 2) Semester 2 \\n(Term 3 and 4) Full year  \n",
       "0                         NaN                         NaN       NaN  \n",
       "1                       8,991                       7,540    16,531  \n",
       "2                      20,245                      22,879    43,124  \n",
       "3                          80                          79       159  \n",
       "4                      29,316                      30,498    59,814  "
      ]
     },
     "execution_count": 12,
     "metadata": {},
     "output_type": "execute_result"
    }
   ],
   "source": [
    "df_t2.head()"
   ]
  },
  {
   "cell_type": "code",
   "execution_count": 13,
   "id": "78997aca",
   "metadata": {},
   "outputs": [
    {
     "data": {
      "application/vnd.microsoft.datawrangler.viewer.v0+json": {
       "columns": [
        {
         "name": "index",
         "rawType": "int64",
         "type": "integer"
        },
        {
         "name": "Primary students",
         "rawType": "object",
         "type": "string"
        },
        {
         "name": "Semester 1",
         "rawType": "object",
         "type": "unknown"
        },
        {
         "name": "Semester 2",
         "rawType": "object",
         "type": "unknown"
        }
       ],
       "conversionMethod": "pd.DataFrame",
       "ref": "539ddd40-821f-43f2-b73d-b952ed7e70a3",
       "rows": [
        [
         "0",
         "(Term 1 and 2)",
         "(Term 3 and 4)",
         "Full year"
        ],
        [
         "1",
         "Number of suspensions (Primary students)",
         null,
         null
        ],
        [
         "2",
         "Number of students suspended (Primary students)",
         null,
         null
        ],
        [
         "3",
         "Suspension rate (Primary students)",
         null,
         null
        ],
        [
         "4",
         "0.5%",
         "0.6%",
         "1.0%"
        ]
       ],
       "shape": {
        "columns": 3,
        "rows": 5
       }
      },
      "text/html": [
       "<div>\n",
       "<style scoped>\n",
       "    .dataframe tbody tr th:only-of-type {\n",
       "        vertical-align: middle;\n",
       "    }\n",
       "\n",
       "    .dataframe tbody tr th {\n",
       "        vertical-align: top;\n",
       "    }\n",
       "\n",
       "    .dataframe thead th {\n",
       "        text-align: right;\n",
       "    }\n",
       "</style>\n",
       "<table border=\"1\" class=\"dataframe\">\n",
       "  <thead>\n",
       "    <tr style=\"text-align: right;\">\n",
       "      <th></th>\n",
       "      <th>Primary students</th>\n",
       "      <th>Semester 1</th>\n",
       "      <th>Semester 2</th>\n",
       "    </tr>\n",
       "  </thead>\n",
       "  <tbody>\n",
       "    <tr>\n",
       "      <th>0</th>\n",
       "      <td>(Term 1 and 2)</td>\n",
       "      <td>(Term 3 and 4)</td>\n",
       "      <td>Full year</td>\n",
       "    </tr>\n",
       "    <tr>\n",
       "      <th>1</th>\n",
       "      <td>Number of suspensions (Primary students)</td>\n",
       "      <td>NaN</td>\n",
       "      <td>NaN</td>\n",
       "    </tr>\n",
       "    <tr>\n",
       "      <th>2</th>\n",
       "      <td>Number of students suspended (Primary students)</td>\n",
       "      <td>NaN</td>\n",
       "      <td>NaN</td>\n",
       "    </tr>\n",
       "    <tr>\n",
       "      <th>3</th>\n",
       "      <td>Suspension rate (Primary students)</td>\n",
       "      <td>NaN</td>\n",
       "      <td>NaN</td>\n",
       "    </tr>\n",
       "    <tr>\n",
       "      <th>4</th>\n",
       "      <td>0.5%</td>\n",
       "      <td>0.6%</td>\n",
       "      <td>1.0%</td>\n",
       "    </tr>\n",
       "  </tbody>\n",
       "</table>\n",
       "</div>"
      ],
      "text/plain": [
       "                                  Primary students      Semester 1 Semester 2\n",
       "0                                   (Term 1 and 2)  (Term 3 and 4)  Full year\n",
       "1         Number of suspensions (Primary students)             NaN        NaN\n",
       "2  Number of students suspended (Primary students)             NaN        NaN\n",
       "3               Suspension rate (Primary students)             NaN        NaN\n",
       "4                                             0.5%            0.6%       1.0%"
      ]
     },
     "execution_count": 13,
     "metadata": {},
     "output_type": "execute_result"
    }
   ],
   "source": [
    "df_t3.head()"
   ]
  },
  {
   "cell_type": "markdown",
   "id": "9d2547a7",
   "metadata": {},
   "source": [
    "↑ Modificar, no se scrappeo bien"
   ]
  },
  {
   "cell_type": "code",
   "execution_count": 14,
   "id": "d839fbb4",
   "metadata": {},
   "outputs": [
    {
     "data": {
      "application/vnd.microsoft.datawrangler.viewer.v0+json": {
       "columns": [
        {
         "name": "index",
         "rawType": "int64",
         "type": "integer"
        },
        {
         "name": "Secondary students",
         "rawType": "object",
         "type": "string"
        },
        {
         "name": "Semester 1",
         "rawType": "object",
         "type": "unknown"
        },
        {
         "name": "Semester 2",
         "rawType": "object",
         "type": "unknown"
        }
       ],
       "conversionMethod": "pd.DataFrame",
       "ref": "a8c7b915-08fc-478a-93a5-5a66fd40ca5d",
       "rows": [
        [
         "0",
         "(Term 1 and 2)",
         "(Term 3 and 4)",
         "Full year"
        ],
        [
         "1",
         "Number of suspensions (Secondary students)",
         null,
         null
        ],
        [
         "2",
         "16,891",
         "18,826",
         "35,717"
        ],
        [
         "3",
         "Number of students suspended (Secondary students)",
         null,
         null
        ],
        [
         "4",
         "12,325",
         "13,886",
         "21,542"
        ]
       ],
       "shape": {
        "columns": 3,
        "rows": 5
       }
      },
      "text/html": [
       "<div>\n",
       "<style scoped>\n",
       "    .dataframe tbody tr th:only-of-type {\n",
       "        vertical-align: middle;\n",
       "    }\n",
       "\n",
       "    .dataframe tbody tr th {\n",
       "        vertical-align: top;\n",
       "    }\n",
       "\n",
       "    .dataframe thead th {\n",
       "        text-align: right;\n",
       "    }\n",
       "</style>\n",
       "<table border=\"1\" class=\"dataframe\">\n",
       "  <thead>\n",
       "    <tr style=\"text-align: right;\">\n",
       "      <th></th>\n",
       "      <th>Secondary students</th>\n",
       "      <th>Semester 1</th>\n",
       "      <th>Semester 2</th>\n",
       "    </tr>\n",
       "  </thead>\n",
       "  <tbody>\n",
       "    <tr>\n",
       "      <th>0</th>\n",
       "      <td>(Term 1 and 2)</td>\n",
       "      <td>(Term 3 and 4)</td>\n",
       "      <td>Full year</td>\n",
       "    </tr>\n",
       "    <tr>\n",
       "      <th>1</th>\n",
       "      <td>Number of suspensions (Secondary students)</td>\n",
       "      <td>NaN</td>\n",
       "      <td>NaN</td>\n",
       "    </tr>\n",
       "    <tr>\n",
       "      <th>2</th>\n",
       "      <td>16,891</td>\n",
       "      <td>18,826</td>\n",
       "      <td>35,717</td>\n",
       "    </tr>\n",
       "    <tr>\n",
       "      <th>3</th>\n",
       "      <td>Number of students suspended (Secondary students)</td>\n",
       "      <td>NaN</td>\n",
       "      <td>NaN</td>\n",
       "    </tr>\n",
       "    <tr>\n",
       "      <th>4</th>\n",
       "      <td>12,325</td>\n",
       "      <td>13,886</td>\n",
       "      <td>21,542</td>\n",
       "    </tr>\n",
       "  </tbody>\n",
       "</table>\n",
       "</div>"
      ],
      "text/plain": [
       "                                  Secondary students      Semester 1  \\\n",
       "0                                     (Term 1 and 2)  (Term 3 and 4)   \n",
       "1         Number of suspensions (Secondary students)             NaN   \n",
       "2                                             16,891          18,826   \n",
       "3  Number of students suspended (Secondary students)             NaN   \n",
       "4                                             12,325          13,886   \n",
       "\n",
       "  Semester 2  \n",
       "0  Full year  \n",
       "1        NaN  \n",
       "2     35,717  \n",
       "3        NaN  \n",
       "4     21,542  "
      ]
     },
     "execution_count": 14,
     "metadata": {},
     "output_type": "execute_result"
    }
   ],
   "source": [
    "df_t4.head()"
   ]
  },
  {
   "cell_type": "markdown",
   "id": "83750e09",
   "metadata": {},
   "source": [
    "↑ Modificar, no se scrappeo bien"
   ]
  },
  {
   "cell_type": "code",
   "execution_count": 15,
   "id": "b486106c",
   "metadata": {},
   "outputs": [
    {
     "data": {
      "application/vnd.microsoft.datawrangler.viewer.v0+json": {
       "columns": [
        {
         "name": "index",
         "rawType": "int64",
         "type": "integer"
        },
        {
         "name": "Suspension descriptor",
         "rawType": "object",
         "type": "string"
        },
        {
         "name": "Number of suspensions",
         "rawType": "object",
         "type": "string"
        }
       ],
       "conversionMethod": "pd.DataFrame",
       "ref": "341e07d5-7dc3-48dc-a3c5-68e2082a8521",
       "rows": [
        [
         "0",
         "Aggressive behaviour",
         "8,391"
        ],
        [
         "1",
         "Assault",
         "590"
        ],
        [
         "2",
         "Bullying",
         "58"
        ],
        [
         "3",
         "Cyber bullying",
         "27"
        ],
        [
         "4",
         "Misuse of technology",
         "66"
        ]
       ],
       "shape": {
        "columns": 2,
        "rows": 5
       }
      },
      "text/html": [
       "<div>\n",
       "<style scoped>\n",
       "    .dataframe tbody tr th:only-of-type {\n",
       "        vertical-align: middle;\n",
       "    }\n",
       "\n",
       "    .dataframe tbody tr th {\n",
       "        vertical-align: top;\n",
       "    }\n",
       "\n",
       "    .dataframe thead th {\n",
       "        text-align: right;\n",
       "    }\n",
       "</style>\n",
       "<table border=\"1\" class=\"dataframe\">\n",
       "  <thead>\n",
       "    <tr style=\"text-align: right;\">\n",
       "      <th></th>\n",
       "      <th>Suspension descriptor</th>\n",
       "      <th>Number of suspensions</th>\n",
       "    </tr>\n",
       "  </thead>\n",
       "  <tbody>\n",
       "    <tr>\n",
       "      <th>0</th>\n",
       "      <td>Aggressive behaviour</td>\n",
       "      <td>8,391</td>\n",
       "    </tr>\n",
       "    <tr>\n",
       "      <th>1</th>\n",
       "      <td>Assault</td>\n",
       "      <td>590</td>\n",
       "    </tr>\n",
       "    <tr>\n",
       "      <th>2</th>\n",
       "      <td>Bullying</td>\n",
       "      <td>58</td>\n",
       "    </tr>\n",
       "    <tr>\n",
       "      <th>3</th>\n",
       "      <td>Cyber bullying</td>\n",
       "      <td>27</td>\n",
       "    </tr>\n",
       "    <tr>\n",
       "      <th>4</th>\n",
       "      <td>Misuse of technology</td>\n",
       "      <td>66</td>\n",
       "    </tr>\n",
       "  </tbody>\n",
       "</table>\n",
       "</div>"
      ],
      "text/plain": [
       "  Suspension descriptor Number of suspensions\n",
       "0  Aggressive behaviour                 8,391\n",
       "1               Assault                   590\n",
       "2              Bullying                    58\n",
       "3        Cyber bullying                    27\n",
       "4  Misuse of technology                    66"
      ]
     },
     "execution_count": 15,
     "metadata": {},
     "output_type": "execute_result"
    }
   ],
   "source": [
    "df_t5.head()"
   ]
  },
  {
   "cell_type": "code",
   "execution_count": null,
   "id": "ff417ced",
   "metadata": {},
   "outputs": [
    {
     "data": {
      "application/vnd.microsoft.datawrangler.viewer.v0+json": {
       "columns": [
        {
         "name": "index",
         "rawType": "int64",
         "type": "integer"
        },
        {
         "name": "SA4 group",
         "rawType": "object",
         "type": "string"
        },
        {
         "name": "Total \nsuspensions",
         "rawType": "object",
         "type": "string"
        },
        {
         "name": "Total number of \nstudents \nsuspended",
         "rawType": "object",
         "type": "string"
        },
        {
         "name": "Students \nsuspended as % \nof SA4 group \nenrolment",
         "rawType": "object",
         "type": "string"
        }
       ],
       "conversionMethod": "pd.DataFrame",
       "ref": "7c322ff1-3775-4192-9042-689773d38006",
       "rows": [
        [
         "0",
         "Sydney-North",
         "1,085",
         "775",
         "0.9%"
        ],
        [
         "1",
         "Sydney-Inner",
         "1,697",
         "1,090",
         "2.0%"
        ],
        [
         "2",
         "Sydney-South",
         "3,146",
         "2,049",
         "2.8%"
        ],
        [
         "3",
         "Sydney-South West",
         "4,968",
         "3,095",
         "3.4%"
        ],
        [
         "4",
         "Sydney-West",
         "3,600",
         "2,315",
         "2.4%"
        ]
       ],
       "shape": {
        "columns": 4,
        "rows": 5
       }
      },
      "text/html": [
       "<div>\n",
       "<style scoped>\n",
       "    .dataframe tbody tr th:only-of-type {\n",
       "        vertical-align: middle;\n",
       "    }\n",
       "\n",
       "    .dataframe tbody tr th {\n",
       "        vertical-align: top;\n",
       "    }\n",
       "\n",
       "    .dataframe thead th {\n",
       "        text-align: right;\n",
       "    }\n",
       "</style>\n",
       "<table border=\"1\" class=\"dataframe\">\n",
       "  <thead>\n",
       "    <tr style=\"text-align: right;\">\n",
       "      <th></th>\n",
       "      <th>SA4 group</th>\n",
       "      <th>Total \\nsuspensions</th>\n",
       "      <th>Total number of \\nstudents \\nsuspended</th>\n",
       "      <th>Students \\nsuspended as % \\nof SA4 group \\nenrolment</th>\n",
       "    </tr>\n",
       "  </thead>\n",
       "  <tbody>\n",
       "    <tr>\n",
       "      <th>0</th>\n",
       "      <td>Sydney-North</td>\n",
       "      <td>1,085</td>\n",
       "      <td>775</td>\n",
       "      <td>0.9%</td>\n",
       "    </tr>\n",
       "    <tr>\n",
       "      <th>1</th>\n",
       "      <td>Sydney-Inner</td>\n",
       "      <td>1,697</td>\n",
       "      <td>1,090</td>\n",
       "      <td>2.0%</td>\n",
       "    </tr>\n",
       "    <tr>\n",
       "      <th>2</th>\n",
       "      <td>Sydney-South</td>\n",
       "      <td>3,146</td>\n",
       "      <td>2,049</td>\n",
       "      <td>2.8%</td>\n",
       "    </tr>\n",
       "    <tr>\n",
       "      <th>3</th>\n",
       "      <td>Sydney-South West</td>\n",
       "      <td>4,968</td>\n",
       "      <td>3,095</td>\n",
       "      <td>3.4%</td>\n",
       "    </tr>\n",
       "    <tr>\n",
       "      <th>4</th>\n",
       "      <td>Sydney-West</td>\n",
       "      <td>3,600</td>\n",
       "      <td>2,315</td>\n",
       "      <td>2.4%</td>\n",
       "    </tr>\n",
       "  </tbody>\n",
       "</table>\n",
       "</div>"
      ],
      "text/plain": [
       "           SA4 group Total \\nsuspensions  \\\n",
       "0       Sydney-North               1,085   \n",
       "1       Sydney-Inner               1,697   \n",
       "2       Sydney-South               3,146   \n",
       "3  Sydney-South West               4,968   \n",
       "4        Sydney-West               3,600   \n",
       "\n",
       "  Total number of \\nstudents \\nsuspended  \\\n",
       "0                                    775   \n",
       "1                                  1,090   \n",
       "2                                  2,049   \n",
       "3                                  3,095   \n",
       "4                                  2,315   \n",
       "\n",
       "  Students \\nsuspended as % \\nof SA4 group \\nenrolment  \n",
       "0                                               0.9%    \n",
       "1                                               2.0%    \n",
       "2                                               2.8%    \n",
       "3                                               3.4%    \n",
       "4                                               2.4%    "
      ]
     },
     "execution_count": 16,
     "metadata": {},
     "output_type": "execute_result"
    }
   ],
   "source": [
    "df_t6.head()"
   ]
  },
  {
   "cell_type": "code",
   "execution_count": 17,
   "id": "27d672ac",
   "metadata": {},
   "outputs": [
    {
     "data": {
      "application/vnd.microsoft.datawrangler.viewer.v0+json": {
       "columns": [
        {
         "name": "index",
         "rawType": "int64",
         "type": "integer"
        },
        {
         "name": "Suspension descriptor",
         "rawType": "object",
         "type": "string"
        },
        {
         "name": "Number of suspensions",
         "rawType": "object",
         "type": "string"
        }
       ],
       "conversionMethod": "pd.DataFrame",
       "ref": "e7838773-4203-4e0b-8ed0-04383d331e38",
       "rows": [
        [
         "0",
         "Aggressive behaviour",
         "17,478"
        ],
        [
         "1",
         "Assault",
         "253"
        ],
        [
         "2",
         "Bullying",
         "330"
        ],
        [
         "3",
         "Cyber bullying",
         "165"
        ],
        [
         "4",
         "Misuse of technology",
         "1,153"
        ]
       ],
       "shape": {
        "columns": 2,
        "rows": 5
       }
      },
      "text/html": [
       "<div>\n",
       "<style scoped>\n",
       "    .dataframe tbody tr th:only-of-type {\n",
       "        vertical-align: middle;\n",
       "    }\n",
       "\n",
       "    .dataframe tbody tr th {\n",
       "        vertical-align: top;\n",
       "    }\n",
       "\n",
       "    .dataframe thead th {\n",
       "        text-align: right;\n",
       "    }\n",
       "</style>\n",
       "<table border=\"1\" class=\"dataframe\">\n",
       "  <thead>\n",
       "    <tr style=\"text-align: right;\">\n",
       "      <th></th>\n",
       "      <th>Suspension descriptor</th>\n",
       "      <th>Number of suspensions</th>\n",
       "    </tr>\n",
       "  </thead>\n",
       "  <tbody>\n",
       "    <tr>\n",
       "      <th>0</th>\n",
       "      <td>Aggressive behaviour</td>\n",
       "      <td>17,478</td>\n",
       "    </tr>\n",
       "    <tr>\n",
       "      <th>1</th>\n",
       "      <td>Assault</td>\n",
       "      <td>253</td>\n",
       "    </tr>\n",
       "    <tr>\n",
       "      <th>2</th>\n",
       "      <td>Bullying</td>\n",
       "      <td>330</td>\n",
       "    </tr>\n",
       "    <tr>\n",
       "      <th>3</th>\n",
       "      <td>Cyber bullying</td>\n",
       "      <td>165</td>\n",
       "    </tr>\n",
       "    <tr>\n",
       "      <th>4</th>\n",
       "      <td>Misuse of technology</td>\n",
       "      <td>1,153</td>\n",
       "    </tr>\n",
       "  </tbody>\n",
       "</table>\n",
       "</div>"
      ],
      "text/plain": [
       "  Suspension descriptor Number of suspensions\n",
       "0  Aggressive behaviour                17,478\n",
       "1               Assault                   253\n",
       "2              Bullying                   330\n",
       "3        Cyber bullying                   165\n",
       "4  Misuse of technology                 1,153"
      ]
     },
     "execution_count": 17,
     "metadata": {},
     "output_type": "execute_result"
    }
   ],
   "source": [
    "df_t7.head()"
   ]
  },
  {
   "cell_type": "code",
   "execution_count": 18,
   "id": "96112d78",
   "metadata": {},
   "outputs": [
    {
     "data": {
      "application/vnd.microsoft.datawrangler.viewer.v0+json": {
       "columns": [
        {
         "name": "index",
         "rawType": "int64",
         "type": "integer"
        },
        {
         "name": "Year",
         "rawType": "object",
         "type": "string"
        },
        {
         "name": "Enrolments",
         "rawType": "object",
         "type": "string"
        },
        {
         "name": "Suspended\nmales",
         "rawType": "object",
         "type": "string"
        },
        {
         "name": "Suspended\nfemales",
         "rawType": "object",
         "type": "string"
        },
        {
         "name": "All students\nsuspended",
         "rawType": "object",
         "type": "string"
        },
        {
         "name": "% student\nenrolment",
         "rawType": "object",
         "type": "string"
        }
       ],
       "conversionMethod": "pd.DataFrame",
       "ref": "5d4bb11d-735d-4d27-a91d-53bf824205b6",
       "rows": [
        [
         "0",
         "K–2",
         "199,686",
         "937",
         "163",
         "1,100",
         "0.6%"
        ],
        [
         "1",
         "3–6",
         "274,769",
         "3,002",
         "623",
         "3,625",
         "1.3%"
        ],
        [
         "2",
         "Primary total",
         "474,455",
         "3,939",
         "786",
         "4,725",
         "1.0%"
        ],
        [
         "3",
         "7–10",
         "227,773",
         "12,949",
         "6,477",
         "19,426",
         "8.5%"
        ],
        [
         "4",
         "11–12",
         "84,206",
         "1,478",
         "642",
         "2,120",
         "2.5%"
        ]
       ],
       "shape": {
        "columns": 6,
        "rows": 5
       }
      },
      "text/html": [
       "<div>\n",
       "<style scoped>\n",
       "    .dataframe tbody tr th:only-of-type {\n",
       "        vertical-align: middle;\n",
       "    }\n",
       "\n",
       "    .dataframe tbody tr th {\n",
       "        vertical-align: top;\n",
       "    }\n",
       "\n",
       "    .dataframe thead th {\n",
       "        text-align: right;\n",
       "    }\n",
       "</style>\n",
       "<table border=\"1\" class=\"dataframe\">\n",
       "  <thead>\n",
       "    <tr style=\"text-align: right;\">\n",
       "      <th></th>\n",
       "      <th>Year</th>\n",
       "      <th>Enrolments</th>\n",
       "      <th>Suspended\\nmales</th>\n",
       "      <th>Suspended\\nfemales</th>\n",
       "      <th>All students\\nsuspended</th>\n",
       "      <th>% student\\nenrolment</th>\n",
       "    </tr>\n",
       "  </thead>\n",
       "  <tbody>\n",
       "    <tr>\n",
       "      <th>0</th>\n",
       "      <td>K–2</td>\n",
       "      <td>199,686</td>\n",
       "      <td>937</td>\n",
       "      <td>163</td>\n",
       "      <td>1,100</td>\n",
       "      <td>0.6%</td>\n",
       "    </tr>\n",
       "    <tr>\n",
       "      <th>1</th>\n",
       "      <td>3–6</td>\n",
       "      <td>274,769</td>\n",
       "      <td>3,002</td>\n",
       "      <td>623</td>\n",
       "      <td>3,625</td>\n",
       "      <td>1.3%</td>\n",
       "    </tr>\n",
       "    <tr>\n",
       "      <th>2</th>\n",
       "      <td>Primary total</td>\n",
       "      <td>474,455</td>\n",
       "      <td>3,939</td>\n",
       "      <td>786</td>\n",
       "      <td>4,725</td>\n",
       "      <td>1.0%</td>\n",
       "    </tr>\n",
       "    <tr>\n",
       "      <th>3</th>\n",
       "      <td>7–10</td>\n",
       "      <td>227,773</td>\n",
       "      <td>12,949</td>\n",
       "      <td>6,477</td>\n",
       "      <td>19,426</td>\n",
       "      <td>8.5%</td>\n",
       "    </tr>\n",
       "    <tr>\n",
       "      <th>4</th>\n",
       "      <td>11–12</td>\n",
       "      <td>84,206</td>\n",
       "      <td>1,478</td>\n",
       "      <td>642</td>\n",
       "      <td>2,120</td>\n",
       "      <td>2.5%</td>\n",
       "    </tr>\n",
       "  </tbody>\n",
       "</table>\n",
       "</div>"
      ],
      "text/plain": [
       "            Year Enrolments Suspended\\nmales Suspended\\nfemales  \\\n",
       "0            K–2    199,686              937                163   \n",
       "1            3–6    274,769            3,002                623   \n",
       "2  Primary total    474,455            3,939                786   \n",
       "3           7–10    227,773           12,949              6,477   \n",
       "4          11–12     84,206            1,478                642   \n",
       "\n",
       "  All students\\nsuspended % student\\nenrolment  \n",
       "0                   1,100                 0.6%  \n",
       "1                   3,625                 1.3%  \n",
       "2                   4,725                 1.0%  \n",
       "3                  19,426                 8.5%  \n",
       "4                   2,120                 2.5%  "
      ]
     },
     "execution_count": 18,
     "metadata": {},
     "output_type": "execute_result"
    }
   ],
   "source": [
    "df_t8.head()"
   ]
  },
  {
   "cell_type": "code",
   "execution_count": 19,
   "id": "e335b1e8",
   "metadata": {},
   "outputs": [
    {
     "data": {
      "application/vnd.microsoft.datawrangler.viewer.v0+json": {
       "columns": [
        {
         "name": "index",
         "rawType": "int64",
         "type": "integer"
        },
        {
         "name": "Aboriginal students",
         "rawType": "object",
         "type": "string"
        },
        {
         "name": "Semester 1",
         "rawType": "object",
         "type": "unknown"
        },
        {
         "name": "Semester 2",
         "rawType": "object",
         "type": "unknown"
        }
       ],
       "conversionMethod": "pd.DataFrame",
       "ref": "238397d0-ea6d-4cc2-b122-91252b83df35",
       "rows": [
        [
         "0",
         "(Term 1 and 2)",
         "(Term 3 and 4)",
         "Full year"
        ],
        [
         "1",
         "Number of suspensions (Aboriginal students)",
         null,
         null
        ],
        [
         "2",
         "6,065",
         "6,247",
         "12,312"
        ],
        [
         "3",
         "Number of students suspended (Aboriginal students)",
         null,
         null
        ],
        [
         "4",
         "Suspension rate (Aboriginal students)",
         null,
         null
        ]
       ],
       "shape": {
        "columns": 3,
        "rows": 5
       }
      },
      "text/html": [
       "<div>\n",
       "<style scoped>\n",
       "    .dataframe tbody tr th:only-of-type {\n",
       "        vertical-align: middle;\n",
       "    }\n",
       "\n",
       "    .dataframe tbody tr th {\n",
       "        vertical-align: top;\n",
       "    }\n",
       "\n",
       "    .dataframe thead th {\n",
       "        text-align: right;\n",
       "    }\n",
       "</style>\n",
       "<table border=\"1\" class=\"dataframe\">\n",
       "  <thead>\n",
       "    <tr style=\"text-align: right;\">\n",
       "      <th></th>\n",
       "      <th>Aboriginal students</th>\n",
       "      <th>Semester 1</th>\n",
       "      <th>Semester 2</th>\n",
       "    </tr>\n",
       "  </thead>\n",
       "  <tbody>\n",
       "    <tr>\n",
       "      <th>0</th>\n",
       "      <td>(Term 1 and 2)</td>\n",
       "      <td>(Term 3 and 4)</td>\n",
       "      <td>Full year</td>\n",
       "    </tr>\n",
       "    <tr>\n",
       "      <th>1</th>\n",
       "      <td>Number of suspensions (Aboriginal students)</td>\n",
       "      <td>NaN</td>\n",
       "      <td>NaN</td>\n",
       "    </tr>\n",
       "    <tr>\n",
       "      <th>2</th>\n",
       "      <td>6,065</td>\n",
       "      <td>6,247</td>\n",
       "      <td>12,312</td>\n",
       "    </tr>\n",
       "    <tr>\n",
       "      <th>3</th>\n",
       "      <td>Number of students suspended (Aboriginal stude...</td>\n",
       "      <td>NaN</td>\n",
       "      <td>NaN</td>\n",
       "    </tr>\n",
       "    <tr>\n",
       "      <th>4</th>\n",
       "      <td>Suspension rate (Aboriginal students)</td>\n",
       "      <td>NaN</td>\n",
       "      <td>NaN</td>\n",
       "    </tr>\n",
       "  </tbody>\n",
       "</table>\n",
       "</div>"
      ],
      "text/plain": [
       "                                 Aboriginal students      Semester 1  \\\n",
       "0                                     (Term 1 and 2)  (Term 3 and 4)   \n",
       "1        Number of suspensions (Aboriginal students)             NaN   \n",
       "2                                              6,065           6,247   \n",
       "3  Number of students suspended (Aboriginal stude...             NaN   \n",
       "4              Suspension rate (Aboriginal students)             NaN   \n",
       "\n",
       "  Semester 2  \n",
       "0  Full year  \n",
       "1        NaN  \n",
       "2     12,312  \n",
       "3        NaN  \n",
       "4        NaN  "
      ]
     },
     "execution_count": 19,
     "metadata": {},
     "output_type": "execute_result"
    }
   ],
   "source": [
    "df_t9.head()"
   ]
  },
  {
   "cell_type": "markdown",
   "id": "1872bad8",
   "metadata": {},
   "source": [
    "↑ Modificar, no se scrappeo bien"
   ]
  },
  {
   "cell_type": "code",
   "execution_count": 20,
   "id": "72e10ea3",
   "metadata": {},
   "outputs": [
    {
     "data": {
      "application/vnd.microsoft.datawrangler.viewer.v0+json": {
       "columns": [
        {
         "name": "index",
         "rawType": "int64",
         "type": "integer"
        },
        {
         "name": "Year",
         "rawType": "object",
         "type": "string"
        },
        {
         "name": "Aboriginal \nstudent enrolments",
         "rawType": "object",
         "type": "unknown"
        },
        {
         "name": "# Aboriginal",
         "rawType": "object",
         "type": "unknown"
        },
        {
         "name": "% Aboriginal\nstudents suspended",
         "rawType": "object",
         "type": "unknown"
        }
       ],
       "conversionMethod": "pd.DataFrame",
       "ref": "ccd43c81-4a8b-42a8-8d97-511112a63e92",
       "rows": [
        [
         "0",
         "students suspended",
         null,
         null,
         null
        ],
        [
         "1",
         "K–2",
         "19,111",
         "368",
         "1.9%"
        ],
        [
         "2",
         "3–6",
         "25,655",
         "1,026",
         "4.0%"
        ],
        [
         "3",
         "Primary total",
         "44,766",
         "1,394",
         "3.1%"
        ],
        [
         "4",
         "7–10",
         "23,351",
         "2,436",
         "10.4%"
        ]
       ],
       "shape": {
        "columns": 4,
        "rows": 5
       }
      },
      "text/html": [
       "<div>\n",
       "<style scoped>\n",
       "    .dataframe tbody tr th:only-of-type {\n",
       "        vertical-align: middle;\n",
       "    }\n",
       "\n",
       "    .dataframe tbody tr th {\n",
       "        vertical-align: top;\n",
       "    }\n",
       "\n",
       "    .dataframe thead th {\n",
       "        text-align: right;\n",
       "    }\n",
       "</style>\n",
       "<table border=\"1\" class=\"dataframe\">\n",
       "  <thead>\n",
       "    <tr style=\"text-align: right;\">\n",
       "      <th></th>\n",
       "      <th>Year</th>\n",
       "      <th>Aboriginal \\nstudent enrolments</th>\n",
       "      <th># Aboriginal</th>\n",
       "      <th>% Aboriginal\\nstudents suspended</th>\n",
       "    </tr>\n",
       "  </thead>\n",
       "  <tbody>\n",
       "    <tr>\n",
       "      <th>0</th>\n",
       "      <td>students suspended</td>\n",
       "      <td>NaN</td>\n",
       "      <td>NaN</td>\n",
       "      <td>NaN</td>\n",
       "    </tr>\n",
       "    <tr>\n",
       "      <th>1</th>\n",
       "      <td>K–2</td>\n",
       "      <td>19,111</td>\n",
       "      <td>368</td>\n",
       "      <td>1.9%</td>\n",
       "    </tr>\n",
       "    <tr>\n",
       "      <th>2</th>\n",
       "      <td>3–6</td>\n",
       "      <td>25,655</td>\n",
       "      <td>1,026</td>\n",
       "      <td>4.0%</td>\n",
       "    </tr>\n",
       "    <tr>\n",
       "      <th>3</th>\n",
       "      <td>Primary total</td>\n",
       "      <td>44,766</td>\n",
       "      <td>1,394</td>\n",
       "      <td>3.1%</td>\n",
       "    </tr>\n",
       "    <tr>\n",
       "      <th>4</th>\n",
       "      <td>7–10</td>\n",
       "      <td>23,351</td>\n",
       "      <td>2,436</td>\n",
       "      <td>10.4%</td>\n",
       "    </tr>\n",
       "  </tbody>\n",
       "</table>\n",
       "</div>"
      ],
      "text/plain": [
       "                 Year Aboriginal \\nstudent enrolments # Aboriginal  \\\n",
       "0  students suspended                             NaN          NaN   \n",
       "1                 K–2                          19,111          368   \n",
       "2                 3–6                          25,655        1,026   \n",
       "3       Primary total                          44,766        1,394   \n",
       "4                7–10                          23,351        2,436   \n",
       "\n",
       "  % Aboriginal\\nstudents suspended  \n",
       "0                              NaN  \n",
       "1                             1.9%  \n",
       "2                             4.0%  \n",
       "3                             3.1%  \n",
       "4                            10.4%  "
      ]
     },
     "execution_count": 20,
     "metadata": {},
     "output_type": "execute_result"
    }
   ],
   "source": [
    "df_t10.head()"
   ]
  },
  {
   "cell_type": "code",
   "execution_count": 21,
   "id": "1c134dfa",
   "metadata": {},
   "outputs": [
    {
     "data": {
      "application/vnd.microsoft.datawrangler.viewer.v0+json": {
       "columns": [
        {
         "name": "index",
         "rawType": "int64",
         "type": "integer"
        },
        {
         "name": "Year",
         "rawType": "object",
         "type": "string"
        },
        {
         "name": "Aboriginal \nstudent enrolments",
         "rawType": "object",
         "type": "string"
        },
        {
         "name": "# Aboriginal\nstudents suspended",
         "rawType": "object",
         "type": "string"
        },
        {
         "name": "% Aboriginal\nstudents suspended",
         "rawType": "object",
         "type": "string"
        }
       ],
       "conversionMethod": "pd.DataFrame",
       "ref": "d4efb602-24c6-4b74-ab2a-1d59aecb1bdc",
       "rows": [
        [
         "0",
         "K–2",
         "19,111",
         "354",
         "1.9%"
        ],
        [
         "1",
         "3–6",
         "25,655",
         "1,309",
         "5.1%"
        ],
        [
         "2",
         "Primary total",
         "44,766",
         "1,663",
         "3.7%"
        ],
        [
         "3",
         "7–10",
         "23,351",
         "4,769",
         "20.4%"
        ],
        [
         "4",
         "11–12",
         "5,401",
         "414",
         "7.7%"
        ]
       ],
       "shape": {
        "columns": 4,
        "rows": 5
       }
      },
      "text/html": [
       "<div>\n",
       "<style scoped>\n",
       "    .dataframe tbody tr th:only-of-type {\n",
       "        vertical-align: middle;\n",
       "    }\n",
       "\n",
       "    .dataframe tbody tr th {\n",
       "        vertical-align: top;\n",
       "    }\n",
       "\n",
       "    .dataframe thead th {\n",
       "        text-align: right;\n",
       "    }\n",
       "</style>\n",
       "<table border=\"1\" class=\"dataframe\">\n",
       "  <thead>\n",
       "    <tr style=\"text-align: right;\">\n",
       "      <th></th>\n",
       "      <th>Year</th>\n",
       "      <th>Aboriginal \\nstudent enrolments</th>\n",
       "      <th># Aboriginal\\nstudents suspended</th>\n",
       "      <th>% Aboriginal\\nstudents suspended</th>\n",
       "    </tr>\n",
       "  </thead>\n",
       "  <tbody>\n",
       "    <tr>\n",
       "      <th>0</th>\n",
       "      <td>K–2</td>\n",
       "      <td>19,111</td>\n",
       "      <td>354</td>\n",
       "      <td>1.9%</td>\n",
       "    </tr>\n",
       "    <tr>\n",
       "      <th>1</th>\n",
       "      <td>3–6</td>\n",
       "      <td>25,655</td>\n",
       "      <td>1,309</td>\n",
       "      <td>5.1%</td>\n",
       "    </tr>\n",
       "    <tr>\n",
       "      <th>2</th>\n",
       "      <td>Primary total</td>\n",
       "      <td>44,766</td>\n",
       "      <td>1,663</td>\n",
       "      <td>3.7%</td>\n",
       "    </tr>\n",
       "    <tr>\n",
       "      <th>3</th>\n",
       "      <td>7–10</td>\n",
       "      <td>23,351</td>\n",
       "      <td>4,769</td>\n",
       "      <td>20.4%</td>\n",
       "    </tr>\n",
       "    <tr>\n",
       "      <th>4</th>\n",
       "      <td>11–12</td>\n",
       "      <td>5,401</td>\n",
       "      <td>414</td>\n",
       "      <td>7.7%</td>\n",
       "    </tr>\n",
       "  </tbody>\n",
       "</table>\n",
       "</div>"
      ],
      "text/plain": [
       "            Year Aboriginal \\nstudent enrolments  \\\n",
       "0            K–2                          19,111   \n",
       "1            3–6                          25,655   \n",
       "2  Primary total                          44,766   \n",
       "3           7–10                          23,351   \n",
       "4          11–12                           5,401   \n",
       "\n",
       "  # Aboriginal\\nstudents suspended % Aboriginal\\nstudents suspended  \n",
       "0                              354                             1.9%  \n",
       "1                            1,309                             5.1%  \n",
       "2                            1,663                             3.7%  \n",
       "3                            4,769                            20.4%  \n",
       "4                              414                             7.7%  "
      ]
     },
     "execution_count": 21,
     "metadata": {},
     "output_type": "execute_result"
    }
   ],
   "source": [
    "df_t11.head()"
   ]
  },
  {
   "cell_type": "code",
   "execution_count": 22,
   "id": "664ba365",
   "metadata": {},
   "outputs": [
    {
     "data": {
      "application/vnd.microsoft.datawrangler.viewer.v0+json": {
       "columns": [
        {
         "name": "index",
         "rawType": "int64",
         "type": "integer"
        },
        {
         "name": "Students identified as receiving \nadjustments due to disability",
         "rawType": "object",
         "type": "string"
        },
        {
         "name": "Semester 1",
         "rawType": "object",
         "type": "unknown"
        },
        {
         "name": "Semester 2",
         "rawType": "object",
         "type": "unknown"
        },
        {
         "name": "Full year",
         "rawType": "object",
         "type": "unknown"
        }
       ],
       "conversionMethod": "pd.DataFrame",
       "ref": "bd1e6093-6bd3-4e3e-9529-583f91a124c8",
       "rows": [
        [
         "0",
         "(Term 1 and 2)",
         "(Term 3 and 4)",
         null,
         null
        ],
        [
         "1",
         "Number of suspensions (students identified as receiving adjustments due to disability)",
         null,
         null,
         null
        ],
        [
         "2",
         "Actual harm",
         "5,561",
         "4,269",
         "9,830"
        ],
        [
         "3",
         "Unacceptable risk to health and \nsafety / wellbeing",
         "11,538",
         "11,837",
         "23,375"
        ],
        [
         "4",
         "Unknown / Not available",
         "60",
         "43",
         "103"
        ]
       ],
       "shape": {
        "columns": 4,
        "rows": 5
       }
      },
      "text/html": [
       "<div>\n",
       "<style scoped>\n",
       "    .dataframe tbody tr th:only-of-type {\n",
       "        vertical-align: middle;\n",
       "    }\n",
       "\n",
       "    .dataframe tbody tr th {\n",
       "        vertical-align: top;\n",
       "    }\n",
       "\n",
       "    .dataframe thead th {\n",
       "        text-align: right;\n",
       "    }\n",
       "</style>\n",
       "<table border=\"1\" class=\"dataframe\">\n",
       "  <thead>\n",
       "    <tr style=\"text-align: right;\">\n",
       "      <th></th>\n",
       "      <th>Students identified as receiving \\nadjustments due to disability</th>\n",
       "      <th>Semester 1</th>\n",
       "      <th>Semester 2</th>\n",
       "      <th>Full year</th>\n",
       "    </tr>\n",
       "  </thead>\n",
       "  <tbody>\n",
       "    <tr>\n",
       "      <th>0</th>\n",
       "      <td>(Term 1 and 2)</td>\n",
       "      <td>(Term 3 and 4)</td>\n",
       "      <td>NaN</td>\n",
       "      <td>NaN</td>\n",
       "    </tr>\n",
       "    <tr>\n",
       "      <th>1</th>\n",
       "      <td>Number of suspensions (students identified as ...</td>\n",
       "      <td>NaN</td>\n",
       "      <td>NaN</td>\n",
       "      <td>NaN</td>\n",
       "    </tr>\n",
       "    <tr>\n",
       "      <th>2</th>\n",
       "      <td>Actual harm</td>\n",
       "      <td>5,561</td>\n",
       "      <td>4,269</td>\n",
       "      <td>9,830</td>\n",
       "    </tr>\n",
       "    <tr>\n",
       "      <th>3</th>\n",
       "      <td>Unacceptable risk to health and \\nsafety / wel...</td>\n",
       "      <td>11,538</td>\n",
       "      <td>11,837</td>\n",
       "      <td>23,375</td>\n",
       "    </tr>\n",
       "    <tr>\n",
       "      <th>4</th>\n",
       "      <td>Unknown / Not available</td>\n",
       "      <td>60</td>\n",
       "      <td>43</td>\n",
       "      <td>103</td>\n",
       "    </tr>\n",
       "  </tbody>\n",
       "</table>\n",
       "</div>"
      ],
      "text/plain": [
       "  Students identified as receiving \\nadjustments due to disability  \\\n",
       "0                                     (Term 1 and 2)                 \n",
       "1  Number of suspensions (students identified as ...                 \n",
       "2                                        Actual harm                 \n",
       "3  Unacceptable risk to health and \\nsafety / wel...                 \n",
       "4                            Unknown / Not available                 \n",
       "\n",
       "       Semester 1 Semester 2 Full year  \n",
       "0  (Term 3 and 4)        NaN       NaN  \n",
       "1             NaN        NaN       NaN  \n",
       "2           5,561      4,269     9,830  \n",
       "3          11,538     11,837    23,375  \n",
       "4              60         43       103  "
      ]
     },
     "execution_count": 22,
     "metadata": {},
     "output_type": "execute_result"
    }
   ],
   "source": [
    "df_t12.head()"
   ]
  },
  {
   "cell_type": "code",
   "execution_count": 23,
   "id": "5ef5ad09",
   "metadata": {},
   "outputs": [
    {
     "data": {
      "application/vnd.microsoft.datawrangler.viewer.v0+json": {
       "columns": [
        {
         "name": "index",
         "rawType": "int64",
         "type": "integer"
        },
        {
         "name": "Year",
         "rawType": "object",
         "type": "string"
        },
        {
         "name": "Enrolments of \nstudents with disability",
         "rawType": "object",
         "type": "unknown"
        },
        {
         "name": "# students with \ndisability suspended",
         "rawType": "object",
         "type": "unknown"
        },
        {
         "name": "% students with \ndisability suspended",
         "rawType": "object",
         "type": "unknown"
        }
       ],
       "conversionMethod": "pd.DataFrame",
       "ref": "bf9266d0-efe8-4eb7-af28-da01641fb7cf",
       "rows": [
        [
         "0",
         "% students with",
         null,
         null,
         null
        ],
        [
         "1",
         "disability suspended",
         null,
         null,
         null
        ],
        [
         "2",
         "K–2",
         "37,695",
         "829",
         "2.2%"
        ],
        [
         "3",
         "3–6",
         "52,092",
         "1,991",
         "3.8%"
        ],
        [
         "4",
         "Primary total",
         "89,787",
         "2,820",
         "3.1%"
        ]
       ],
       "shape": {
        "columns": 4,
        "rows": 5
       }
      },
      "text/html": [
       "<div>\n",
       "<style scoped>\n",
       "    .dataframe tbody tr th:only-of-type {\n",
       "        vertical-align: middle;\n",
       "    }\n",
       "\n",
       "    .dataframe tbody tr th {\n",
       "        vertical-align: top;\n",
       "    }\n",
       "\n",
       "    .dataframe thead th {\n",
       "        text-align: right;\n",
       "    }\n",
       "</style>\n",
       "<table border=\"1\" class=\"dataframe\">\n",
       "  <thead>\n",
       "    <tr style=\"text-align: right;\">\n",
       "      <th></th>\n",
       "      <th>Year</th>\n",
       "      <th>Enrolments of \\nstudents with disability</th>\n",
       "      <th># students with \\ndisability suspended</th>\n",
       "      <th>% students with \\ndisability suspended</th>\n",
       "    </tr>\n",
       "  </thead>\n",
       "  <tbody>\n",
       "    <tr>\n",
       "      <th>0</th>\n",
       "      <td>% students with</td>\n",
       "      <td>NaN</td>\n",
       "      <td>NaN</td>\n",
       "      <td>NaN</td>\n",
       "    </tr>\n",
       "    <tr>\n",
       "      <th>1</th>\n",
       "      <td>disability suspended</td>\n",
       "      <td>NaN</td>\n",
       "      <td>NaN</td>\n",
       "      <td>NaN</td>\n",
       "    </tr>\n",
       "    <tr>\n",
       "      <th>2</th>\n",
       "      <td>K–2</td>\n",
       "      <td>37,695</td>\n",
       "      <td>829</td>\n",
       "      <td>2.2%</td>\n",
       "    </tr>\n",
       "    <tr>\n",
       "      <th>3</th>\n",
       "      <td>3–6</td>\n",
       "      <td>52,092</td>\n",
       "      <td>1,991</td>\n",
       "      <td>3.8%</td>\n",
       "    </tr>\n",
       "    <tr>\n",
       "      <th>4</th>\n",
       "      <td>Primary total</td>\n",
       "      <td>89,787</td>\n",
       "      <td>2,820</td>\n",
       "      <td>3.1%</td>\n",
       "    </tr>\n",
       "  </tbody>\n",
       "</table>\n",
       "</div>"
      ],
      "text/plain": [
       "                   Year Enrolments of \\nstudents with disability  \\\n",
       "0       % students with                                      NaN   \n",
       "1  disability suspended                                      NaN   \n",
       "2                   K–2                                   37,695   \n",
       "3                   3–6                                   52,092   \n",
       "4         Primary total                                   89,787   \n",
       "\n",
       "  # students with \\ndisability suspended  \\\n",
       "0                                    NaN   \n",
       "1                                    NaN   \n",
       "2                                    829   \n",
       "3                                  1,991   \n",
       "4                                  2,820   \n",
       "\n",
       "  % students with \\ndisability suspended  \n",
       "0                                    NaN  \n",
       "1                                    NaN  \n",
       "2                                   2.2%  \n",
       "3                                   3.8%  \n",
       "4                                   3.1%  "
      ]
     },
     "execution_count": 23,
     "metadata": {},
     "output_type": "execute_result"
    }
   ],
   "source": [
    "df_t13.head()"
   ]
  },
  {
   "cell_type": "code",
   "execution_count": 24,
   "id": "01432f26",
   "metadata": {},
   "outputs": [
    {
     "data": {
      "application/vnd.microsoft.datawrangler.viewer.v0+json": {
       "columns": [
        {
         "name": "index",
         "rawType": "int64",
         "type": "integer"
        },
        {
         "name": "Year",
         "rawType": "object",
         "type": "string"
        },
        {
         "name": "Enrolments of students \nwith disability",
         "rawType": "object",
         "type": "string"
        },
        {
         "name": "# students with \ndisability suspended",
         "rawType": "object",
         "type": "string"
        },
        {
         "name": "% students with \ndisability suspended",
         "rawType": "object",
         "type": "string"
        }
       ],
       "conversionMethod": "pd.DataFrame",
       "ref": "668e37c8-0561-4fa0-bf08-5b29a9ffe665",
       "rows": [
        [
         "0",
         "K–2",
         "37,695",
         "860",
         "2.3%"
        ],
        [
         "1",
         "3–6",
         "52,092",
         "2,559",
         "4.9%"
        ],
        [
         "2",
         "Primary total",
         "89,787",
         "3,419",
         "3.8%"
        ],
        [
         "3",
         "7–10",
         "44,811",
         "8,594",
         "19.2%"
        ],
        [
         "4",
         "11–12",
         "13,876",
         "662",
         "4.8%"
        ]
       ],
       "shape": {
        "columns": 4,
        "rows": 5
       }
      },
      "text/html": [
       "<div>\n",
       "<style scoped>\n",
       "    .dataframe tbody tr th:only-of-type {\n",
       "        vertical-align: middle;\n",
       "    }\n",
       "\n",
       "    .dataframe tbody tr th {\n",
       "        vertical-align: top;\n",
       "    }\n",
       "\n",
       "    .dataframe thead th {\n",
       "        text-align: right;\n",
       "    }\n",
       "</style>\n",
       "<table border=\"1\" class=\"dataframe\">\n",
       "  <thead>\n",
       "    <tr style=\"text-align: right;\">\n",
       "      <th></th>\n",
       "      <th>Year</th>\n",
       "      <th>Enrolments of students \\nwith disability</th>\n",
       "      <th># students with \\ndisability suspended</th>\n",
       "      <th>% students with \\ndisability suspended</th>\n",
       "    </tr>\n",
       "  </thead>\n",
       "  <tbody>\n",
       "    <tr>\n",
       "      <th>0</th>\n",
       "      <td>K–2</td>\n",
       "      <td>37,695</td>\n",
       "      <td>860</td>\n",
       "      <td>2.3%</td>\n",
       "    </tr>\n",
       "    <tr>\n",
       "      <th>1</th>\n",
       "      <td>3–6</td>\n",
       "      <td>52,092</td>\n",
       "      <td>2,559</td>\n",
       "      <td>4.9%</td>\n",
       "    </tr>\n",
       "    <tr>\n",
       "      <th>2</th>\n",
       "      <td>Primary total</td>\n",
       "      <td>89,787</td>\n",
       "      <td>3,419</td>\n",
       "      <td>3.8%</td>\n",
       "    </tr>\n",
       "    <tr>\n",
       "      <th>3</th>\n",
       "      <td>7–10</td>\n",
       "      <td>44,811</td>\n",
       "      <td>8,594</td>\n",
       "      <td>19.2%</td>\n",
       "    </tr>\n",
       "    <tr>\n",
       "      <th>4</th>\n",
       "      <td>11–12</td>\n",
       "      <td>13,876</td>\n",
       "      <td>662</td>\n",
       "      <td>4.8%</td>\n",
       "    </tr>\n",
       "  </tbody>\n",
       "</table>\n",
       "</div>"
      ],
      "text/plain": [
       "            Year Enrolments of students \\nwith disability  \\\n",
       "0            K–2                                   37,695   \n",
       "1            3–6                                   52,092   \n",
       "2  Primary total                                   89,787   \n",
       "3           7–10                                   44,811   \n",
       "4          11–12                                   13,876   \n",
       "\n",
       "  # students with \\ndisability suspended  \\\n",
       "0                                    860   \n",
       "1                                  2,559   \n",
       "2                                  3,419   \n",
       "3                                  8,594   \n",
       "4                                    662   \n",
       "\n",
       "  % students with \\ndisability suspended  \n",
       "0                                   2.3%  \n",
       "1                                   4.9%  \n",
       "2                                   3.8%  \n",
       "3                                  19.2%  \n",
       "4                                   4.8%  "
      ]
     },
     "execution_count": 24,
     "metadata": {},
     "output_type": "execute_result"
    }
   ],
   "source": [
    "df_t14.head()"
   ]
  },
  {
   "cell_type": "code",
   "execution_count": 25,
   "id": "6bcaa713",
   "metadata": {},
   "outputs": [
    {
     "data": {
      "application/vnd.microsoft.datawrangler.viewer.v0+json": {
       "columns": [
        {
         "name": "index",
         "rawType": "int64",
         "type": "integer"
        },
        {
         "name": "SA4 group",
         "rawType": "object",
         "type": "string"
        },
        {
         "name": "Total \nsuspensions",
         "rawType": "object",
         "type": "unknown"
        },
        {
         "name": "Total number of \nstudents \nsuspended",
         "rawType": "object",
         "type": "unknown"
        },
        {
         "name": "Students \nsuspended as %  \nof SA4 group \nenrolment",
         "rawType": "object",
         "type": "unknown"
        }
       ],
       "conversionMethod": "pd.DataFrame",
       "ref": "6a7773fb-ab54-47fd-9ee1-d9d8f3f29165",
       "rows": [
        [
         "0",
         "SA4 group",
         null,
         null,
         null
        ],
        [
         "1",
         "Sydney-North",
         "342",
         "287",
         "0.3%"
        ],
        [
         "2",
         "Sydney-Inner",
         "504",
         "384",
         "0.7%"
        ],
        [
         "3",
         "Sydney-South",
         "713",
         "559",
         "0.8%"
        ],
        [
         "4",
         "Sydney-South West",
         "1,764",
         "1,401",
         "1.5%"
        ]
       ],
       "shape": {
        "columns": 4,
        "rows": 5
       }
      },
      "text/html": [
       "<div>\n",
       "<style scoped>\n",
       "    .dataframe tbody tr th:only-of-type {\n",
       "        vertical-align: middle;\n",
       "    }\n",
       "\n",
       "    .dataframe tbody tr th {\n",
       "        vertical-align: top;\n",
       "    }\n",
       "\n",
       "    .dataframe thead th {\n",
       "        text-align: right;\n",
       "    }\n",
       "</style>\n",
       "<table border=\"1\" class=\"dataframe\">\n",
       "  <thead>\n",
       "    <tr style=\"text-align: right;\">\n",
       "      <th></th>\n",
       "      <th>SA4 group</th>\n",
       "      <th>Total \\nsuspensions</th>\n",
       "      <th>Total number of \\nstudents \\nsuspended</th>\n",
       "      <th>Students \\nsuspended as %  \\nof SA4 group \\nenrolment</th>\n",
       "    </tr>\n",
       "  </thead>\n",
       "  <tbody>\n",
       "    <tr>\n",
       "      <th>0</th>\n",
       "      <td>SA4 group</td>\n",
       "      <td>NaN</td>\n",
       "      <td>NaN</td>\n",
       "      <td>NaN</td>\n",
       "    </tr>\n",
       "    <tr>\n",
       "      <th>1</th>\n",
       "      <td>Sydney-North</td>\n",
       "      <td>342</td>\n",
       "      <td>287</td>\n",
       "      <td>0.3%</td>\n",
       "    </tr>\n",
       "    <tr>\n",
       "      <th>2</th>\n",
       "      <td>Sydney-Inner</td>\n",
       "      <td>504</td>\n",
       "      <td>384</td>\n",
       "      <td>0.7%</td>\n",
       "    </tr>\n",
       "    <tr>\n",
       "      <th>3</th>\n",
       "      <td>Sydney-South</td>\n",
       "      <td>713</td>\n",
       "      <td>559</td>\n",
       "      <td>0.8%</td>\n",
       "    </tr>\n",
       "    <tr>\n",
       "      <th>4</th>\n",
       "      <td>Sydney-South West</td>\n",
       "      <td>1,764</td>\n",
       "      <td>1,401</td>\n",
       "      <td>1.5%</td>\n",
       "    </tr>\n",
       "  </tbody>\n",
       "</table>\n",
       "</div>"
      ],
      "text/plain": [
       "           SA4 group Total \\nsuspensions  \\\n",
       "0          SA4 group                 NaN   \n",
       "1       Sydney-North                 342   \n",
       "2       Sydney-Inner                 504   \n",
       "3       Sydney-South                 713   \n",
       "4  Sydney-South West               1,764   \n",
       "\n",
       "  Total number of \\nstudents \\nsuspended  \\\n",
       "0                                    NaN   \n",
       "1                                    287   \n",
       "2                                    384   \n",
       "3                                    559   \n",
       "4                                  1,401   \n",
       "\n",
       "  Students \\nsuspended as %  \\nof SA4 group \\nenrolment  \n",
       "0                                                NaN     \n",
       "1                                               0.3%     \n",
       "2                                               0.7%     \n",
       "3                                               0.8%     \n",
       "4                                               1.5%     "
      ]
     },
     "execution_count": 25,
     "metadata": {},
     "output_type": "execute_result"
    }
   ],
   "source": [
    "df_t15.head()"
   ]
  },
  {
   "cell_type": "code",
   "execution_count": 26,
   "id": "f10878af",
   "metadata": {},
   "outputs": [
    {
     "data": {
      "application/vnd.microsoft.datawrangler.viewer.v0+json": {
       "columns": [
        {
         "name": "index",
         "rawType": "int64",
         "type": "integer"
        },
        {
         "name": "SA4 group",
         "rawType": "object",
         "type": "string"
        },
        {
         "name": "Total \nsuspensions",
         "rawType": "object",
         "type": "string"
        },
        {
         "name": "Total number of \nstudents \nsuspended",
         "rawType": "object",
         "type": "string"
        },
        {
         "name": "Students \nsuspended as % \nof SA4 group \nenrolment",
         "rawType": "object",
         "type": "string"
        }
       ],
       "conversionMethod": "pd.DataFrame",
       "ref": "ddff0c57-5e3a-4cb7-b2c4-f371a79bada1",
       "rows": [
        [
         "0",
         "Sydney-North",
         "1,085",
         "775",
         "0.9%"
        ],
        [
         "1",
         "Sydney-Inner",
         "1,697",
         "1,090",
         "2.0%"
        ],
        [
         "2",
         "Sydney-South",
         "3,146",
         "2,049",
         "2.8%"
        ],
        [
         "3",
         "Sydney-South West",
         "4,968",
         "3,095",
         "3.4%"
        ],
        [
         "4",
         "Sydney-West",
         "3,600",
         "2,315",
         "2.4%"
        ]
       ],
       "shape": {
        "columns": 4,
        "rows": 5
       }
      },
      "text/html": [
       "<div>\n",
       "<style scoped>\n",
       "    .dataframe tbody tr th:only-of-type {\n",
       "        vertical-align: middle;\n",
       "    }\n",
       "\n",
       "    .dataframe tbody tr th {\n",
       "        vertical-align: top;\n",
       "    }\n",
       "\n",
       "    .dataframe thead th {\n",
       "        text-align: right;\n",
       "    }\n",
       "</style>\n",
       "<table border=\"1\" class=\"dataframe\">\n",
       "  <thead>\n",
       "    <tr style=\"text-align: right;\">\n",
       "      <th></th>\n",
       "      <th>SA4 group</th>\n",
       "      <th>Total \\nsuspensions</th>\n",
       "      <th>Total number of \\nstudents \\nsuspended</th>\n",
       "      <th>Students \\nsuspended as % \\nof SA4 group \\nenrolment</th>\n",
       "    </tr>\n",
       "  </thead>\n",
       "  <tbody>\n",
       "    <tr>\n",
       "      <th>0</th>\n",
       "      <td>Sydney-North</td>\n",
       "      <td>1,085</td>\n",
       "      <td>775</td>\n",
       "      <td>0.9%</td>\n",
       "    </tr>\n",
       "    <tr>\n",
       "      <th>1</th>\n",
       "      <td>Sydney-Inner</td>\n",
       "      <td>1,697</td>\n",
       "      <td>1,090</td>\n",
       "      <td>2.0%</td>\n",
       "    </tr>\n",
       "    <tr>\n",
       "      <th>2</th>\n",
       "      <td>Sydney-South</td>\n",
       "      <td>3,146</td>\n",
       "      <td>2,049</td>\n",
       "      <td>2.8%</td>\n",
       "    </tr>\n",
       "    <tr>\n",
       "      <th>3</th>\n",
       "      <td>Sydney-South West</td>\n",
       "      <td>4,968</td>\n",
       "      <td>3,095</td>\n",
       "      <td>3.4%</td>\n",
       "    </tr>\n",
       "    <tr>\n",
       "      <th>4</th>\n",
       "      <td>Sydney-West</td>\n",
       "      <td>3,600</td>\n",
       "      <td>2,315</td>\n",
       "      <td>2.4%</td>\n",
       "    </tr>\n",
       "  </tbody>\n",
       "</table>\n",
       "</div>"
      ],
      "text/plain": [
       "           SA4 group Total \\nsuspensions  \\\n",
       "0       Sydney-North               1,085   \n",
       "1       Sydney-Inner               1,697   \n",
       "2       Sydney-South               3,146   \n",
       "3  Sydney-South West               4,968   \n",
       "4        Sydney-West               3,600   \n",
       "\n",
       "  Total number of \\nstudents \\nsuspended  \\\n",
       "0                                    775   \n",
       "1                                  1,090   \n",
       "2                                  2,049   \n",
       "3                                  3,095   \n",
       "4                                  2,315   \n",
       "\n",
       "  Students \\nsuspended as % \\nof SA4 group \\nenrolment  \n",
       "0                                               0.9%    \n",
       "1                                               2.0%    \n",
       "2                                               2.8%    \n",
       "3                                               3.4%    \n",
       "4                                               2.4%    "
      ]
     },
     "execution_count": 26,
     "metadata": {},
     "output_type": "execute_result"
    }
   ],
   "source": [
    "df_t16.head()"
   ]
  },
  {
   "cell_type": "markdown",
   "id": "af367c28",
   "metadata": {},
   "source": [
    "# Bullying Frequency\n",
    "https://www.education.sa.gov.au/department/research-and-statistics/statistics-and-data/wellbeing-and-engagement-collection-survey/about-wellbeing-and-engagement-collection#:~:text=School%20results "
   ]
  },
  {
   "cell_type": "code",
   "execution_count": null,
   "id": "1fa36787",
   "metadata": {},
   "outputs": [],
   "source": [
    "data = {\n",
    "    ('Happiness', 'High'): [24179, 21270, 6605, 52054],\n",
    "    ('Happiness', 'Medium'): [11628, 16390, 7091, 35109],\n",
    "    ('Happiness', 'Low'): [2769, 4685, 4163, 11617],\n",
    "    ('Happiness', 'Total'): [38576, 42345, 17859, 98780],\n",
    "    ('Satisfaction with life', 'High'): [19551, 16497, 5396, 41444],\n",
    "    ('Satisfaction with life', 'Medium'): [13903, 17549, 6384, 37836],\n",
    "    ('Satisfaction with life', 'Low'): [5139, 8320, 6087, 19546],\n",
    "    ('Satisfaction with life', 'Total'): [38593, 42366, 17867, 98826],\n",
    "    ('Sadness', 'High'): [24231, 19396, 4978, 48605],\n",
    "    ('Sadness', 'Medium'): [11091, 16558, 6684, 34333],\n",
    "    ('Sadness', 'Low'): [3331, 6492, 6278, 16101],\n",
    "    ('Sadness', 'Total'): [38653, 42446, 17940, 99039],\n",
    "    ('Worries', 'High'): [20325, 14335, 3576, 38236],\n",
    "    ('Worries', 'Medium'): [12304, 16946, 6093, 35343],\n",
    "    ('Worries', 'Low'): [5972, 11098, 8215, 25285],\n",
    "    ('Worries', 'Total'): [38601, 42379, 17884, 98864]\n",
    "}\n",
    "\n",
    "index = ['Rarely', 'Monthly', 'Weekly', 'Total']\n",
    "df = pd.DataFrame(data, index=index)\n",
    "\n",
    "print(df)"
   ]
  }
 ],
 "metadata": {
  "kernelspec": {
   "display_name": "Python 3",
   "language": "python",
   "name": "python3"
  },
  "language_info": {
   "codemirror_mode": {
    "name": "ipython",
    "version": 3
   },
   "file_extension": ".py",
   "mimetype": "text/x-python",
   "name": "python",
   "nbconvert_exporter": "python",
   "pygments_lexer": "ipython3",
   "version": "3.9.6"
  }
 },
 "nbformat": 4,
 "nbformat_minor": 5
}
